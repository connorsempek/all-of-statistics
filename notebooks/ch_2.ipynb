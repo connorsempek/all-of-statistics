{
 "cells": [
  {
   "cell_type": "markdown",
   "metadata": {},
   "source": [
    "# All of Statistics by Larry Wasserman\n",
    "## Chapter 2"
   ]
  },
  {
   "cell_type": "markdown",
   "metadata": {},
   "source": [
    "### Imports"
   ]
  },
  {
   "cell_type": "code",
   "execution_count": 48,
   "metadata": {
    "collapsed": true
   },
   "outputs": [],
   "source": [
    "import random\n",
    "import math\n",
    "import matplotlib.pyplot as plt\n",
    "import seaborn"
   ]
  },
  {
   "cell_type": "markdown",
   "metadata": {},
   "source": [
    "---\n",
    "### Problem 21\n",
    "\n",
    "Suppose a coin has probability $p$ of falling heads up. If we flip the coin \n",
    "many times, we would expect the proportion of heads to be near $p$. Take $p=0.3$ and\n",
    "$n=1000$ and simulate $n$ coin flips. Plot the proportion of heads as a\n",
    "function of $n$. Repeat for $p=0.03$. "
   ]
  },
  {
   "cell_type": "code",
   "execution_count": 43,
   "metadata": {
    "collapsed": true
   },
   "outputs": [],
   "source": [
    "def toss_coin(p_heads):\n",
    "    '''return `h` with probability p_heads and `t` with probability 1 - p_heads\n",
    "    '''\n",
    "    \n",
    "    res = 'h'\n",
    "    if random.random() > p_heads:\n",
    "        res= 't'\n",
    "    return res\n",
    "\n",
    "def toss_coin_n_times(p_heads, n):\n",
    "    '''simulate sims many coin tosses\n",
    "    '''\n",
    "    \n",
    "    return ''.join(toss_coin(p_heads) for _ in range(n))"
   ]
  },
  {
   "cell_type": "markdown",
   "metadata": {},
   "source": [
    "$p=0.3$, $n=1000$"
   ]
  },
  {
   "cell_type": "code",
   "execution_count": 44,
   "metadata": {
    "collapsed": false
   },
   "outputs": [
    {
     "name": "stdout",
     "output_type": "stream",
     "text": [
      "The proportion of heads is 0.3080\n"
     ]
    }
   ],
   "source": [
    "random.seed(111)\n",
    "p = 0.3\n",
    "n = 1000\n",
    "sim = toss_coin_n_times(p, n)\n",
    "print 'The proportion of heads is {:.4f}'.format(1.0 * sim.count('h') / len(sim))"
   ]
  },
  {
   "cell_type": "markdown",
   "metadata": {},
   "source": [
    "$p=0.03$, $n=1000$"
   ]
  },
  {
   "cell_type": "code",
   "execution_count": 45,
   "metadata": {
    "collapsed": false
   },
   "outputs": [
    {
     "name": "stdout",
     "output_type": "stream",
     "text": [
      "The proportion of heads is 0.0330\n"
     ]
    }
   ],
   "source": [
    "random.seed(111)\n",
    "p = 0.03\n",
    "n = 1000\n",
    "sim = toss_coin_n_times(p, n)\n",
    "print 'The proportion of heads is {:.4f}'.format(1.0 * sim.count('h') / len(sim))"
   ]
  },
  {
   "cell_type": "markdown",
   "metadata": {},
   "source": [
    "---\n",
    "### Problem 22\n",
    "Suppose we flip a coin $n$ times and let $p$ denote the probability of heads. Let $X$ be the number of heads. We call $X$ a binomial random variable. Intuition suggests $X$ will be close to $np$. To see if this is true, we can repeat this experiment many times and average the $X$ values. Carry out a simulation and compare the average of the $X$'s to $np$. Try this for $p=0.3$ and $n=10$, $n=100$, $n=1000$."
   ]
  },
  {
   "cell_type": "code",
   "execution_count": 47,
   "metadata": {
    "collapsed": false
   },
   "outputs": [
    {
     "name": "stdout",
     "output_type": "stream",
     "text": [
      "Mean of simulations: 2.989 (np = 3.0)\n",
      "Mean of simulations: 29.925 (np = 30.0)\n",
      "Mean of simulations: 299.5 (np = 300.0)\n"
     ]
    }
   ],
   "source": [
    "random.seed(111)\n",
    "p = 0.3\n",
    "sims = 1000 # number of simulations for each n\n",
    "ens = [10, 100, 1000]\n",
    "for n in ens:\n",
    "    sum_of_heads = sum(toss_coin_n_times(p, n).count('h') for _ in range(sims))\n",
    "    mean = sum_of_heads / float(sims)\n",
    "    print 'Mean of simulations: {} (np = {})'.format(mean, n * p)"
   ]
  },
  {
   "cell_type": "markdown",
   "metadata": {},
   "source": [
    "---\n",
    "### Problem 23\n",
    "Consider tossing a fair die. Let $A=\\{2, 4, 6\\}$ and $B=\\{1, 2, 3, 4\\}$. Then, $\\mathbb{P}(A) = 1/2$, $\\mathbb{P}(B) = 2/3$, and $\\mathbb{P}(AB) = 1/3$. Since $\\mathbb{P}(AB) = \\mathbb{P}(A)\\mathbb{P}(B)$, the events $A$ and $B$ are independent. Simulate draws from the sample space and verify that $\\hat{\\mathbb{P}}(AB) = \\hat{\\mathbb{P}}(A)\\hat{\\mathbb{P}}(B)$ where $\\hat{\\mathbb{P}}(A)$ is the proportion of times $A$ occured in the simulation, and similarly for $\\hat{\\mathbb{P}}(AB)$ and $\\hat{\\mathbb{P}}(B)$. Now, find two events $A$ and $B$ that are not independent. Compute $\\hat{\\mathbb{P}}(A)$, $\\hat{\\mathbb{P}}(B)$, and $\\hat{\\mathbb{P}}(AB)$. Compare the calculated values to their theoretical values. Report your results and interpret."
   ]
  },
  {
   "cell_type": "code",
   "execution_count": 61,
   "metadata": {
    "collapsed": true
   },
   "outputs": [],
   "source": [
    "def roll_fair_die():\n",
    "    '''Simulates rolling a fair die. Returns 1, 2, 3, 4, 5, or 6 with probability 1/6\n",
    "    '''\n",
    "    \n",
    "    return math.ceil(random.random() * 6)"
   ]
  },
  {
   "cell_type": "code",
   "execution_count": 60,
   "metadata": {
    "collapsed": false
   },
   "outputs": [],
   "source": [
    "A = set([2, 4, 6])\n",
    "B = set([1, 2, 3, 4])\n",
    "AB = A.intersection(B)"
   ]
  },
  {
   "cell_type": "code",
   "execution_count": 62,
   "metadata": {
    "collapsed": true
   },
   "outputs": [],
   "source": [
    "random.seed(111)\n",
    "sims = 1000 # roll die 1000 times\n",
    "events = {'A':0, 'B':0, 'AB':0}\n",
    "for _ in range(sims):\n",
    "    \n",
    "    roll = roll_fair_die()\n",
    "    if roll in A:\n",
    "        events['A'] += 1\n",
    "    if roll in B:\n",
    "        events['B'] += 1\n",
    "    if roll in AB:\n",
    "        events['AB'] += 1"
   ]
  },
  {
   "cell_type": "code",
   "execution_count": 73,
   "metadata": {
    "collapsed": false
   },
   "outputs": [
    {
     "name": "stdout",
     "output_type": "stream",
     "text": [
      "P(A) = 0.4940\n",
      "P(B) = 0.6700\n",
      "P(AB) = 0.3320\n",
      "P(A)P(B) = 0.3310\n"
     ]
    }
   ],
   "source": [
    "for event, ct in events.items():\n",
    "    print 'P({}) = {:.4f}'.format(event, ct / float(sims))\n",
    "print 'P(A)P(B) = {:.4f}'.format((events['A'] / float(sims)) * (events['B'] / float(sims))) "
   ]
  },
  {
   "cell_type": "markdown",
   "metadata": {},
   "source": [
    "Recall that disjoint events are never independent. So, let $A=\\{1,2,3\\}$ and $B=\\{4,5,6\\}$ so that $AB = \\emptyset$. Then, $\\mathbb{P}(A) = \\mathbb{P}(B) = 1/2$ and $\\mathbb{P}(A)\\mathbb{P}(B) = 1/4$. "
   ]
  },
  {
   "cell_type": "code",
   "execution_count": 74,
   "metadata": {
    "collapsed": true
   },
   "outputs": [],
   "source": [
    "A = set([1, 2, 3])\n",
    "B = set([4, 5, 6])\n",
    "AB = A.intersection(B)"
   ]
  },
  {
   "cell_type": "code",
   "execution_count": 75,
   "metadata": {
    "collapsed": true
   },
   "outputs": [],
   "source": [
    "random.seed(111)\n",
    "sims = 1000 # roll die 1000 times\n",
    "events = {'A':0, 'B':0, 'AB':0}\n",
    "for _ in range(sims):\n",
    "    \n",
    "    roll = roll_fair_die()\n",
    "    if roll in A:\n",
    "        events['A'] += 1\n",
    "    if roll in B:\n",
    "        events['B'] += 1\n",
    "    if roll in AB:\n",
    "        events['AB'] += 1"
   ]
  },
  {
   "cell_type": "code",
   "execution_count": 76,
   "metadata": {
    "collapsed": false
   },
   "outputs": [
    {
     "name": "stdout",
     "output_type": "stream",
     "text": [
      "P(A) = 0.5050\n",
      "P(B) = 0.4950\n",
      "P(AB) = 0.0000\n",
      "P(A)P(B) = 0.2500\n"
     ]
    }
   ],
   "source": [
    "for event, ct in events.items():\n",
    "    print 'P({}) = {:.4f}'.format(event, ct / float(sims))\n",
    "print 'P(A)P(B) = {:.4f}'.format((events['A'] / float(sims)) * (events['B'] / float(sims))) "
   ]
  },
  {
   "cell_type": "code",
   "execution_count": null,
   "metadata": {
    "collapsed": true
   },
   "outputs": [],
   "source": []
  }
 ],
 "metadata": {
  "kernelspec": {
   "display_name": "Python [Root]",
   "language": "python",
   "name": "Python [Root]"
  },
  "language_info": {
   "codemirror_mode": {
    "name": "ipython",
    "version": 2
   },
   "file_extension": ".py",
   "mimetype": "text/x-python",
   "name": "python",
   "nbconvert_exporter": "python",
   "pygments_lexer": "ipython2",
   "version": "2.7.12"
  }
 },
 "nbformat": 4,
 "nbformat_minor": 0
}
